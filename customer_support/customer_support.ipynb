{
  "nbformat": 4,
  "nbformat_minor": 0,
  "metadata": {
    "colab": {
      "provenance": [],
      "authorship_tag": "ABX9TyPGT808XC2X/KMKM/5OnuPf",
      "include_colab_link": true
    },
    "kernelspec": {
      "name": "python3",
      "display_name": "Python 3"
    },
    "language_info": {
      "name": "python"
    }
  },
  "cells": [
    {
      "cell_type": "markdown",
      "metadata": {
        "id": "view-in-github",
        "colab_type": "text"
      },
      "source": [
        "<a href=\"https://colab.research.google.com/github/raheelam98/Chatbot_Agents_Using_LangGraph/blob/main/customer_support/customer_support.ipynb\" target=\"_parent\"><img src=\"https://colab.research.google.com/assets/colab-badge.svg\" alt=\"Open In Colab\"/></a>"
      ]
    },
    {
      "cell_type": "markdown",
      "source": [
        "**Customer Support**\n",
        "\n",
        "LangGraph agents can manage customer inquiries, automate responses, and provide consistent, context-aware support across multiple channels."
      ],
      "metadata": {
        "id": "W1NgcpLOb7bZ"
      }
    },
    {
      "cell_type": "code",
      "execution_count": 1,
      "metadata": {
        "id": "iH42EmrmShvu"
      },
      "outputs": [],
      "source": [
        "# install the required packages\n",
        "\n",
        "%%capture --no-stderr\n",
        "%pip install -q -U langgraph langchain_google_genai langchain_core langchain_community tavily-python pandas openai\n"
      ]
    },
    {
      "cell_type": "code",
      "source": [
        "# API Keys\n",
        "import os\n",
        "from google.colab import userdata\n",
        "\n",
        "os.environ[\"LANGCHAIN_API_KEY\"] = userdata.get('LANGCHAIN_API_KEY')\n",
        "os.environ[\"LANGCHAIN_TRACING_V2\"] = \"true\"\n",
        "os.environ[\"LANGCHAIN_PROJECT\"] = \"quickstart\"\n",
        "\n",
        "gemini_api_key = userdata.get('GEMINI_API_KEY')"
      ],
      "metadata": {
        "id": "mm0jHrEmduFS"
      },
      "execution_count": 3,
      "outputs": []
    },
    {
      "cell_type": "code",
      "source": [
        "os.environ[\"TAVILY_API_KEY\"] = userdata.get(\"TAVILY_API_KEY\")"
      ],
      "metadata": {
        "id": "EhwnQ8ygfHKi"
      },
      "execution_count": 4,
      "outputs": []
    },
    {
      "cell_type": "code",
      "source": [
        "os.environ[\"OPENAI_API_KEY\"] = userdata.get(\"OPENAI_API_KEY\")"
      ],
      "metadata": {
        "id": "fLFLUi59ggOm"
      },
      "execution_count": 7,
      "outputs": []
    },
    {
      "cell_type": "code",
      "source": [
        "# check graph is running\n",
        "from langchain_google_genai import ChatGoogleGenerativeAI\n",
        "\n",
        "llm = ChatGoogleGenerativeAI(\n",
        "    model=\"gemini-1.5-flash\",\n",
        "    max_retries=2,\n",
        "    api_key=gemini_api_key\n",
        ")\n",
        "\n",
        "response = llm.invoke([{\"role\": \"user\", \"content\": \"greet me\"}])"
      ],
      "metadata": {
        "id": "aVGM3n4aBF9i"
      },
      "execution_count": 5,
      "outputs": []
    },
    {
      "cell_type": "code",
      "source": [
        "response"
      ],
      "metadata": {
        "colab": {
          "base_uri": "https://localhost:8080/"
        },
        "id": "178RIZkEfsuS",
        "outputId": "86faaf58-00db-43da-9613-e76774d0626b"
      },
      "execution_count": 6,
      "outputs": [
        {
          "output_type": "execute_result",
          "data": {
            "text/plain": [
              "AIMessage(content='Hello there! How can I help you today? \\n', additional_kwargs={}, response_metadata={'prompt_feedback': {'block_reason': 0, 'safety_ratings': []}, 'finish_reason': 'STOP', 'safety_ratings': [{'category': 'HARM_CATEGORY_SEXUALLY_EXPLICIT', 'probability': 'NEGLIGIBLE', 'blocked': False}, {'category': 'HARM_CATEGORY_HATE_SPEECH', 'probability': 'NEGLIGIBLE', 'blocked': False}, {'category': 'HARM_CATEGORY_HARASSMENT', 'probability': 'NEGLIGIBLE', 'blocked': False}, {'category': 'HARM_CATEGORY_DANGEROUS_CONTENT', 'probability': 'NEGLIGIBLE', 'blocked': False}]}, id='run-534f017a-e737-4dd2-8ea5-696527d7c1bc-0', usage_metadata={'input_tokens': 3, 'output_tokens': 11, 'total_tokens': 14, 'input_token_details': {'cache_read': 0}})"
            ]
          },
          "metadata": {},
          "execution_count": 6
        }
      ]
    },
    {
      "cell_type": "code",
      "source": [
        "from typing import Annotated\n",
        "from langchain_community.tools.tavily_search import TavilySearchResults\n",
        "from langchain_core.messages import BaseMessage, AIMessage , ToolMessage\n",
        "from pydantic import BaseModel\n",
        "from typing_extensions import TypedDict\n",
        "from langgraph.checkpoint.memory import MemorySaver\n",
        "from langgraph.graph import StateGraph, START, END\n",
        "from langgraph.graph.message import add_messages\n",
        "from langgraph.prebuilt import ToolNode, tools_condition\n",
        "#from langchain_core.messages import AIMessage, ToolMessage\n",
        "\n",
        "# STEP 1\n",
        "# (Part 1 : Basic Chatbot)\n",
        "# add_messages: Append new messages to the existing list of messages in the state in the graph.\n",
        "# Define the State class with a list of messages\n",
        "class State(TypedDict):\n",
        "    messages: Annotated[list, add_messages]\n",
        "    # This flag indicates whether only a human can give instructions\n",
        "    ask_human: bool   # (Part 6) True means only a human can give instructions\n",
        "\n",
        "\n",
        "# STEP 2\n",
        "class RequestAssistance(BaseModel):\n",
        "    \"\"\"Escalate the conversation to an expert. Use this if you are unable to assist directly or if the user requires support beyond your permissions.\n",
        "\n",
        "    To use this function, relay the user's 'request' so the expert can provide the right guidance.\n",
        "    \"\"\"\n",
        "    request: str\n",
        "\n",
        "# STEP 3\n",
        "tool = TavilySearchResults(max_results=2)\n",
        "tools = [tool]\n",
        "\n",
        "# Bind the LLM (Large Language Model) to a tool definition, a pydantic model, or a JSON schema\n",
        "# Now the LLM is capable of triggering both the Tool and the RequestAssistance Schema\n",
        "llm_with_tools = llm.bind_tools(tools + [RequestAssistance])\n",
        "\n",
        "# STEP 4 :-  default ask_human = False, LLM tells it is flase or true\n",
        "# Define the chatbot node with modification of ask_human flag\n",
        "# if response call tool_call then ask_human = true then it routes human route\n",
        "# Define the chatbot function which uses the bound LLM and tools\n",
        "def chatbot(state: State):\n",
        "    # Invoke the LLM with the state messages\n",
        "    response = llm_with_tools.invoke(state[\"messages\"])\n",
        "    ask_human = False       # by default ask_human = False\n",
        "    # Check if the response includes tool calls and if the first tool call is for RequestAssistance\n",
        "    if (\n",
        "        response.tool_calls\n",
        "        and response.tool_calls[0][\"name\"] == RequestAssistance.__name__\n",
        "    ):\n",
        "        ask_human = True\n",
        "    # Return the updated state with the response and ask_human flag\n",
        "    return {\"messages\": [response], \"ask_human\": ask_human}\n",
        "\n",
        "# STEP 5 :- create chatbot and tool node\n",
        "# Create the graph builder and add the chatbot and tools nodes to the graph, same as before.\n",
        "graph_builder = StateGraph(State)\n",
        "\n",
        "# Add the chatbot node to the state graph\n",
        "graph_builder.add_node(\"chatbot\", chatbot)\n",
        "\n",
        "# Add the tools node to the state graph with the specified tool\n",
        "graph_builder.add_node(\"tools\", ToolNode(tools=[tool]))\n",
        "\n",
        "# STEP 6 :- create human node\n",
        "def create_response(response: str, ai_message: AIMessage):\n",
        "    return ToolMessage(\n",
        "        content=response,\n",
        "        tool_call_id=ai_message.tool_calls[0][\"id\"],\n",
        "    )\n",
        "\n",
        "# First create helper function for human_node functionality\n",
        "def human_node(state: State):\n",
        "    new_messages = []    # Create dictionary\n",
        "    # Check if the last message from state is from ToolMessage\n",
        "    if not isinstance(state[\"messages\"][-1], ToolMessage):\n",
        "        # Typically, the user will have updated the state during the interrupt.\n",
        "        # If they choose not to, we will include a placeholder ToolMessage to let the LLM continue.\n",
        "        # If the last message from state is not from ToolMessage\n",
        "        # then append the generic response, No response from human.\n",
        "        # Human node triggered but did not get the response.\n",
        "        new_messages.append(\n",
        "            create_response(\"No response from human.\", state[\"messages\"][-1])\n",
        "        )\n",
        "    return {\n",
        "        # Append the new messages\n",
        "        \"messages\": new_messages,\n",
        "        # Unset the flag\n",
        "        \"ask_human\": False, # To protect from infinite loop if no response from human\n",
        "    }\n",
        "\n",
        "# Add the human node to the state graph and pass human_node function\n",
        "graph_builder.add_node(\"human\", human_node)\n",
        "\n",
        "# STEP 7 :- conditional logic\n",
        "# When chatbot triggers for human: if ask_human is true, return human\n",
        "def select_next_node(state: State):\n",
        "    if state[\"ask_human\"]:\n",
        "        return \"human\"\n",
        "    # Otherwise, route as before\n",
        "    return tools_condition(state)\n",
        "\n",
        "graph_builder.add_conditional_edges(\n",
        "    \"chatbot\",\n",
        "    select_next_node,\n",
        "    {\"human\": \"human\", \"tools\": \"tools\", END: END},\n",
        ")\n",
        "\n",
        "# STEP 8 :\n",
        "# The rest is the same\n",
        "graph_builder.add_edge(\"tools\", \"chatbot\")\n",
        "graph_builder.add_edge(\"human\", \"chatbot\")\n",
        "graph_builder.add_edge(START, \"chatbot\")\n",
        "memory = MemorySaver()\n",
        "graph = graph_builder.compile(\n",
        "    checkpointer=memory,\n",
        "    # We interrupt before 'human' here instead.\n",
        "    interrupt_before=[\"human\"],\n",
        ")"
      ],
      "metadata": {
        "id": "LLcXIXSdhLU7"
      },
      "execution_count": 8,
      "outputs": []
    },
    {
      "cell_type": "markdown",
      "source": [
        "Visualize the graph"
      ],
      "metadata": {
        "id": "1MrKnDv0jpwf"
      }
    },
    {
      "cell_type": "code",
      "source": [
        "from IPython.display import Image, display\n",
        "\n",
        "try:\n",
        "    display(Image(graph.get_graph().draw_mermaid_png()))\n",
        "except Exception:\n",
        "    # This requires some extra dependencies and is optional\n",
        "    pass"
      ],
      "metadata": {
        "colab": {
          "base_uri": "https://localhost:8080/",
          "height": 308
        },
        "id": "HM_MpHC0jrpJ",
        "outputId": "b6ee9f7b-c498-4dfd-91ad-f0cf8ffe1ec0"
      },
      "execution_count": 9,
      "outputs": [
        {
          "output_type": "display_data",
          "data": {
            "image/jpeg": "[encoded data removed]",
            "text/plain": [
              "<IPython.core.display.Image object>"
            ]
          },
          "metadata": {}
        }
      ]
    },
    {
      "cell_type": "markdown",
      "source": [
        "**Gather information**"
      ],
      "metadata": {
        "id": "lZU-Y4ruoIzw"
      }
    },
    {
      "cell_type": "code",
      "source": [],
      "metadata": {
        "id": "0CHn-rK3lghE"
      },
      "execution_count": null,
      "outputs": []
    }
  ]
}
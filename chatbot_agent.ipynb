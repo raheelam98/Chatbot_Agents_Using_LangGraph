{
  "nbformat": 4,
  "nbformat_minor": 0,
  "metadata": {
    "colab": {
      "provenance": [],
      "authorship_tag": "ABX9TyNK1Wtvr5f7/IqZpG+kL4KD",
      "include_colab_link": true
    },
    "kernelspec": {
      "name": "python3",
      "display_name": "Python 3"
    },
    "language_info": {
      "name": "python"
    }
  },
  "cells": [
    {
      "cell_type": "markdown",
      "metadata": {
        "id": "view-in-github",
        "colab_type": "text"
      },
      "source": [
        "<a href=\"https://colab.research.google.com/github/raheelam98/Chatbot_Agents_Using_LangGraph/blob/main/chatbot_agent.ipynb\" target=\"_parent\"><img src=\"https://colab.research.google.com/assets/colab-badge.svg\" alt=\"Open In Colab\"/></a>"
      ]
    },
    {
      "cell_type": "markdown",
      "source": [
        "**Customer Support**\n",
        "\n",
        "LangGraph agents can manage customer inquiries, automate responses, and provide consistent, context-aware support across multiple channels."
      ],
      "metadata": {
        "id": "W1NgcpLOb7bZ"
      }
    },
    {
      "cell_type": "code",
      "execution_count": 14,
      "metadata": {
        "id": "iH42EmrmShvu"
      },
      "outputs": [],
      "source": [
        "# install the required packages\n",
        "\n",
        "%%capture --no-stderr\n",
        "%pip install -q -U langgraph langchain_google_genai langchain_core langchain_community tavily-python\n"
      ]
    },
    {
      "cell_type": "code",
      "source": [
        "# API Keys\n",
        "import os\n",
        "from google.colab import userdata\n",
        "\n",
        "os.environ[\"LANGCHAIN_API_KEY\"] = userdata.get('LANGCHAIN_API_KEY')\n",
        "os.environ[\"LANGCHAIN_TRACING_V2\"] = \"true\"\n",
        "os.environ[\"LANGCHAIN_PROJECT\"] = \"quickstart\"\n",
        "\n",
        "gemini_api_key = userdata.get('GEMINI_API_KEY')"
      ],
      "metadata": {
        "id": "mm0jHrEmduFS"
      },
      "execution_count": 15,
      "outputs": []
    },
    {
      "cell_type": "code",
      "source": [
        "os.environ[\"TAVILY_API_KEY\"] = userdata.get(\"TAVILY_API_KEY\")"
      ],
      "metadata": {
        "id": "EhwnQ8ygfHKi"
      },
      "execution_count": 16,
      "outputs": []
    },
    {
      "cell_type": "code",
      "source": [
        "os.environ[\"OPENAI_API_KEY\"] = userdata.get(\"OPENAI_API_KEY\")"
      ],
      "metadata": {
        "id": "fLFLUi59ggOm"
      },
      "execution_count": 4,
      "outputs": []
    },
    {
      "cell_type": "code",
      "source": [
        "# check graph is running\n",
        "from langchain_google_genai import ChatGoogleGenerativeAI\n",
        "\n",
        "llm = ChatGoogleGenerativeAI(\n",
        "    model=\"gemini-1.5-flash\",\n",
        "    max_retries=2,\n",
        "    api_key=gemini_api_key\n",
        ")"
      ],
      "metadata": {
        "id": "aVGM3n4aBF9i"
      },
      "execution_count": 17,
      "outputs": []
    },
    {
      "cell_type": "code",
      "source": [
        "#response = llm.invoke([{\"role\": \"user\", \"content\": \"greet me\"}])\n",
        "response = llm.invoke(\"hi\")\n",
        "response"
      ],
      "metadata": {
        "colab": {
          "base_uri": "https://localhost:8080/"
        },
        "id": "178RIZkEfsuS",
        "outputId": "aa4a3f06-71b6-4063-82b9-b898258ad7fb"
      },
      "execution_count": 18,
      "outputs": [
        {
          "output_type": "execute_result",
          "data": {
            "text/plain": [
              "AIMessage(content='Hi! How can I help you today? \\n', additional_kwargs={}, response_metadata={'prompt_feedback': {'block_reason': 0, 'safety_ratings': []}, 'finish_reason': 'STOP', 'safety_ratings': [{'category': 'HARM_CATEGORY_SEXUALLY_EXPLICIT', 'probability': 'NEGLIGIBLE', 'blocked': False}, {'category': 'HARM_CATEGORY_HATE_SPEECH', 'probability': 'NEGLIGIBLE', 'blocked': False}, {'category': 'HARM_CATEGORY_HARASSMENT', 'probability': 'NEGLIGIBLE', 'blocked': False}, {'category': 'HARM_CATEGORY_DANGEROUS_CONTENT', 'probability': 'NEGLIGIBLE', 'blocked': False}]}, id='run-c76414bc-512d-4f7a-8a48-b822ce730506-0', usage_metadata={'input_tokens': 2, 'output_tokens': 9, 'total_tokens': 11, 'input_token_details': {'cache_read': 0}})"
            ]
          },
          "metadata": {},
          "execution_count": 18
        }
      ]
    },
    {
      "cell_type": "code",
      "source": [
        "from typing import Annotated\n",
        "from langchain_community.tools.tavily_search import TavilySearchResults\n",
        "from langchain_core.messages import BaseMessage, AIMessage , ToolMessage\n",
        "from pydantic import BaseModel\n",
        "from typing_extensions import TypedDict\n",
        "from langgraph.checkpoint.memory import MemorySaver\n",
        "from langgraph.graph import StateGraph, START, END\n",
        "from langgraph.graph.message import add_messages\n",
        "from langgraph.prebuilt import ToolNode, tools_condition\n",
        "#from langchain_core.messages import AIMessage, ToolMessage\n",
        "\n",
        "# STEP 1\n",
        "# (Part 1 : Basic Chatbot)\n",
        "# add_messages: Append new messages to the existing list of messages in the state in the graph.\n",
        "# Define the State class with a list of messages\n",
        "class State(TypedDict):\n",
        "    messages: Annotated[list, add_messages]\n",
        "    # This flag indicates whether only a human can give instructions\n",
        "    ask_human: bool   # (Part 6) True means only a human can give instructions\n",
        "\n",
        "\n",
        "# STEP 2\n",
        "class RequestAssistance(BaseModel):\n",
        "    \"\"\"Escalate the conversation to an expert. Use this if you are unable to assist directly or if the user requires support beyond your permissions.\n",
        "\n",
        "    To use this function, relay the user's 'request' so the expert can provide the right guidance.\n",
        "    \"\"\"\n",
        "    request: str\n",
        "\n",
        "# STEP 3\n",
        "tool = TavilySearchResults(max_results=2)\n",
        "tools = [tool]\n",
        "\n",
        "# Bind the LLM (Large Language Model) to a tool definition, a pydantic model, or a JSON schema\n",
        "# Now the LLM is capable of triggering both the Tool and the RequestAssistance Schema\n",
        "llm_with_tools = llm.bind_tools(tools + [RequestAssistance])\n",
        "\n",
        "# STEP 4 :-  default ask_human = False, LLM tells it is flase or true\n",
        "# Define the chatbot node with modification of ask_human flag\n",
        "# if response call tool_call then ask_human = true then it routes human route\n",
        "# Define the chatbot function which uses the bound LLM and tools\n",
        "def chatbot(state: State):\n",
        "    # Invoke the LLM with the state messages\n",
        "    response = llm_with_tools.invoke(state[\"messages\"])\n",
        "    ask_human = False       # by default ask_human = False\n",
        "    # Check if the response includes tool calls and if the first tool call is for RequestAssistance\n",
        "    if (\n",
        "        response.tool_calls\n",
        "        and response.tool_calls[0][\"name\"] == RequestAssistance.__name__\n",
        "    ):\n",
        "        ask_human = True\n",
        "    # Return the updated state with the response and ask_human flag\n",
        "    return {\"messages\": [response], \"ask_human\": ask_human}\n",
        "\n",
        "# STEP 5 :- create chatbot and tool node\n",
        "# Create the graph builder and add the chatbot and tools nodes to the graph, same as before.\n",
        "graph_builder = StateGraph(State)\n",
        "\n",
        "# Add the chatbot node to the state graph\n",
        "graph_builder.add_node(\"chatbot\", chatbot)\n",
        "\n",
        "# Add the tools node to the state graph with the specified tool\n",
        "graph_builder.add_node(\"tools\", ToolNode(tools=[tool]))\n",
        "\n",
        "# STEP 6 :- create human node\n",
        "def create_response(response: str, ai_message: AIMessage):\n",
        "    return ToolMessage(\n",
        "        content=response,\n",
        "        tool_call_id=ai_message.tool_calls[0][\"id\"],\n",
        "    )\n",
        "\n",
        "# First create helper function for human_node functionality\n",
        "def human_node(state: State):\n",
        "    new_messages = []    # Create dictionary\n",
        "    # Check if the last message from state is from ToolMessage\n",
        "    if not isinstance(state[\"messages\"][-1], ToolMessage):\n",
        "        # Typically, the user will have updated the state during the interrupt.\n",
        "        # If they choose not to, we will include a placeholder ToolMessage to let the LLM continue.\n",
        "        # If the last message from state is not from ToolMessage\n",
        "        # then append the generic response, No response from human.\n",
        "        # Human node triggered but did not get the response.\n",
        "        new_messages.append(\n",
        "            create_response(\"No response from human.\", state[\"messages\"][-1])\n",
        "        )\n",
        "    return {\n",
        "        # Append the new messages\n",
        "        \"messages\": new_messages,\n",
        "        # Unset the flag\n",
        "        \"ask_human\": False, # To protect from infinite loop if no response from human\n",
        "    }\n",
        "\n",
        "# Add the human node to the state graph and pass human_node function\n",
        "graph_builder.add_node(\"human\", human_node)\n",
        "\n",
        "# STEP 7 :- conditional logic\n",
        "# When chatbot triggers for human: if ask_human is true, return human\n",
        "def select_next_node(state: State):\n",
        "    if state[\"ask_human\"]:\n",
        "        return \"human\"\n",
        "    # Otherwise, route as before\n",
        "    return tools_condition(state)\n",
        "\n",
        "graph_builder.add_conditional_edges(\n",
        "    \"chatbot\",\n",
        "    select_next_node,\n",
        "    {\"human\": \"human\", \"tools\": \"tools\", END: END},\n",
        ")\n",
        "\n",
        "# STEP 8 :\n",
        "# The rest is the same\n",
        "graph_builder.add_edge(\"tools\", \"chatbot\")\n",
        "graph_builder.add_edge(\"human\", \"chatbot\")\n",
        "graph_builder.add_edge(START, \"chatbot\")\n",
        "memory = MemorySaver()\n",
        "graph = graph_builder.compile(\n",
        "    checkpointer=memory,\n",
        "    # We interrupt before 'human' here instead.\n",
        "    interrupt_before=[\"human\"],\n",
        ")"
      ],
      "metadata": {
        "id": "LLcXIXSdhLU7"
      },
      "execution_count": 83,
      "outputs": []
    },
    {
      "cell_type": "markdown",
      "source": [
        "Visualize the graph"
      ],
      "metadata": {
        "id": "1MrKnDv0jpwf"
      }
    },
    {
      "cell_type": "code",
      "source": [
        "from IPython.display import Image, display\n",
        "\n",
        "try:\n",
        "    display(Image(graph.get_graph().draw_mermaid_png()))\n",
        "except Exception:\n",
        "    # This requires some extra dependencies and is optional\n",
        "    pass"
      ],
      "metadata": {
        "colab": {
          "base_uri": "https://localhost:8080/",
          "height": 308
        },
        "id": "HM_MpHC0jrpJ",
        "outputId": "cb42a5e6-1ffe-4e7c-b556-bf4979536b7b"
      },
      "execution_count": 84,
      "outputs": [
        {
          "output_type": "display_data",
          "data": {
            "image/png": "[encoded data removed]",
            "text/plain": [
              "<IPython.core.display.Image object>"
            ]
          },
          "metadata": {}
        }
      ]
    },
    {
      "cell_type": "markdown",
      "source": [
        "**Gather information**"
      ],
      "metadata": {
        "id": "lZU-Y4ruoIzw"
      }
    },
    {
      "cell_type": "markdown",
      "source": [
        "## Enhancing the Chatbot with Tools\n",
        "\n",
        "### Chatbot Integrates Web Search Tool\n",
        "\n",
        "**Chatbot Loop with Real-Time User Input Processing**"
      ],
      "metadata": {
        "id": "ZLMshJ2Bp2xw"
      }
    },
    {
      "cell_type": "code",
      "source": [
        "# Extracts the latest message from the use\n",
        "graph = graph_builder.compile()\n",
        "for event in graph.stream({\"messages\": [(\"user\", \"I am Raheela\")]}):\n",
        "    print(\"EVENT:\", list(event.values())[0][\"messages\"][-1].content)\n",
        "\n",
        "# pretty_print()"
      ],
      "metadata": {
        "colab": {
          "base_uri": "https://localhost:8080/"
        },
        "id": "iGaFYF62rhnU",
        "outputId": "ece05b9d-1255-4af1-d4b9-a6790f395703"
      },
      "execution_count": 33,
      "outputs": [
        {
          "output_type": "stream",
          "name": "stdout",
          "text": [
            "EVENT: Nice to meet you, Raheela! How can I help you today? \n",
            "\n"
          ]
        }
      ]
    },
    {
      "cell_type": "code",
      "source": [
        "def stream_graph_updates(user_input: str):\n",
        "    for event in graph.stream({\"messages\": [(\"user\", user_input)]}):\n",
        "        for value in event.values():\n",
        "            print(\"Assistant:\", value[\"messages\"][-1].content)\n",
        "\n",
        "\n",
        "while True:\n",
        "    try:\n",
        "        user_input = input(\"User: \")\n",
        "        if user_input.lower() in [\"quit\", \"exit\", \"q\"]:\n",
        "            print(\"Goodbye!\")\n",
        "            break\n",
        "\n",
        "        stream_graph_updates(user_input)\n",
        "    except:\n",
        "        # fallback if input() is not available\n",
        "        user_input = \"What do you know about LangGraph?\"\n",
        "        print(\"User: \" + user_input)\n",
        "        stream_graph_updates(user_input)\n",
        "        break\n"
      ],
      "metadata": {
        "colab": {
          "base_uri": "https://localhost:8080/"
        },
        "id": "AnNvju_IqBBb",
        "outputId": "08b1b020-1cc5-45ea-8be7-c2f1881b4e3f"
      },
      "execution_count": 34,
      "outputs": [
        {
          "output_type": "stream",
          "name": "stdout",
          "text": [
            "User: Karachi weather\n",
            "Assistant: \n",
            "Assistant: [{\"url\": \"https://www.weatherapi.com/\", \"content\": \"{'location': {'name': 'Karachi', 'region': 'Sindh', 'country': 'Pakistan', 'lat': 24.8667, 'lon': 67.05, 'tz_id': 'Asia/Karachi', 'localtime_epoch': 1731522303, 'localtime': '2024-11-13 23:25'}, 'current': {'last_updated_epoch': 1731521700, 'last_updated': '2024-11-13 23:15', 'temp_c': 27.4, 'temp_f': 81.3, 'is_day': 0, 'condition': {'text': 'Overcast', 'icon': '//cdn.weatherapi.com/weather/64x64/night/122.png', 'code': 1009}, 'wind_mph': 7.4, 'wind_kph': 11.9, 'wind_degree': 235, 'wind_dir': 'SW', 'pressure_mb': 1013.0, 'pressure_in': 29.91, 'precip_mm': 0.0, 'precip_in': 0.0, 'humidity': 62, 'cloud': 25, 'feelslike_c': 28.9, 'feelslike_f': 84.0, 'windchill_c': 26.1, 'windchill_f': 79.1, 'heatindex_c': 27.4, 'heatindex_f': 81.2, 'dewpoint_c': 17.9, 'dewpoint_f': 64.2, 'vis_km': 5.0, 'vis_miles': 3.0, 'uv': 0.0, 'gust_mph': 11.1, 'gust_kph': 17.9}}\"}, {\"url\": \"https://www.wunderground.com/weather/pk/karachi\", \"content\": \"access_time 2:14 PM PKT on November 13, 2024 ... Tonight Wed 11/13 Low 71 ... Karachi Weather Forecasts. Weather Underground provides local & long-range weather forecasts, weatherreports, maps\"}]\n",
            "Assistant: The weather in Karachi, Pakistan is currently overcast with a temperature of 27.4 degrees Celsius (81.3 degrees Fahrenheit). The wind is blowing from the southwest at 7.4 mph (11.9 kph). The humidity is 62% and the cloud cover is 25%. \n",
            "\n",
            "User: can u search from web\n",
            "Assistant: I can search the web for information. What would you like to search for? \n",
            "\n",
            "User: q\n",
            "Goodbye!\n"
          ]
        }
      ]
    },
    {
      "cell_type": "markdown",
      "source": [
        "### Chatbot Has Memory\n",
        "\n",
        "**A chatbot can remember the state of the conversation within a given thread ID.**\n",
        "\n",
        "Now interact with your bot! First, pick a thread to use as the key for this conversation."
      ],
      "metadata": {
        "id": "xNj614r3irEe"
      }
    },
    {
      "cell_type": "code",
      "source": [
        "config = {\"configurable\": {\"thread_id\": \"1\"}}"
      ],
      "metadata": {
        "id": "0CHn-rK3lghE"
      },
      "execution_count": 55,
      "outputs": []
    },
    {
      "cell_type": "code",
      "source": [
        "user_input = \"Hi there! My name is Raheela.\"\n",
        "\n",
        "# The config is the **second positional argument** to stream() or invoke()!\n",
        "events = graph.stream(\n",
        "    {\"messages\": [(\"user\", user_input)]}, config, stream_mode=\"values\"\n",
        ")\n",
        "\n",
        "# Loop through each event in the stream\n",
        "for event in events:\n",
        "    # Print the latest message content from the event\n",
        "    event[\"messages\"][-1].pretty_print()"
      ],
      "metadata": {
        "colab": {
          "base_uri": "https://localhost:8080/"
        },
        "id": "YnIujPqti9Eo",
        "outputId": "c22b00e4-608a-41ea-ecab-9fa754456a8b"
      },
      "execution_count": 56,
      "outputs": [
        {
          "output_type": "stream",
          "name": "stdout",
          "text": [
            "================================\u001b[1m Human Message \u001b[0m=================================\n",
            "\n",
            "Hi there! My name is Raheela.\n",
            "==================================\u001b[1m Ai Message \u001b[0m==================================\n",
            "\n",
            "Hi Raheela, nice to meet you! 👋 What can I do for you today?\n"
          ]
        }
      ]
    },
    {
      "cell_type": "markdown",
      "source": [
        "Remember history based on the same thread ID"
      ],
      "metadata": {
        "id": "ygwp_GXQjJSb"
      }
    },
    {
      "cell_type": "code",
      "source": [
        "user_input = \"Remember my name?\"\n",
        "\n",
        "# The config is the **second positional argument** to stream() or invoke()!\n",
        "events = graph.stream(\n",
        "    {\"messages\": [(\"user\", user_input)]}, config, stream_mode=\"values\"\n",
        ")\n",
        "\n",
        "# Loop through each event in the stream\n",
        "for event in events:\n",
        "    # Print the latest message content from the event\n",
        "    event[\"messages\"][-1].pretty_print()\n"
      ],
      "metadata": {
        "colab": {
          "base_uri": "https://localhost:8080/"
        },
        "id": "CHZ1nxT5jKel",
        "outputId": "f7ba6911-1e70-4327-ad65-be4fd9139e1c"
      },
      "execution_count": 58,
      "outputs": [
        {
          "output_type": "stream",
          "name": "stdout",
          "text": [
            "================================\u001b[1m Human Message \u001b[0m=================================\n",
            "\n",
            "Remember my name?\n",
            "==================================\u001b[1m Ai Message \u001b[0m==================================\n",
            "\n",
            "I will try my best to remember your name, Raheela! 😊  Is there anything else I can help you with?\n"
          ]
        }
      ]
    },
    {
      "cell_type": "code",
      "source": [
        "# Fetch the current state of the graph for the given configuration\n",
        "#inspect the graph state to confirm it worked.\n",
        "snapshot = graph.get_state(config)  # Retrieve the current state or status of the graph\n",
        "print(\"snapshot \", snapshot)"
      ],
      "metadata": {
        "colab": {
          "base_uri": "https://localhost:8080/"
        },
        "id": "RICFRDN615zH",
        "outputId": "81c5758f-39cb-4f8c-9335-c3cef92bdc78"
      },
      "execution_count": 60,
      "outputs": [
        {
          "output_type": "stream",
          "name": "stdout",
          "text": [
            "snapshot  StateSnapshot(values={'messages': [HumanMessage(content='Hi there! My name is Raheela.', additional_kwargs={}, response_metadata={}, id='b29e24a6-5ede-4cfd-975f-ea8c0a0f95c5'), AIMessage(content='Hi Raheela, nice to meet you! 👋 What can I do for you today? \\n', additional_kwargs={}, response_metadata={'prompt_feedback': {'block_reason': 0, 'safety_ratings': []}, 'finish_reason': 'STOP', 'safety_ratings': [{'category': 'HARM_CATEGORY_SEXUALLY_EXPLICIT', 'probability': 'NEGLIGIBLE', 'blocked': False}, {'category': 'HARM_CATEGORY_HATE_SPEECH', 'probability': 'NEGLIGIBLE', 'blocked': False}, {'category': 'HARM_CATEGORY_HARASSMENT', 'probability': 'NEGLIGIBLE', 'blocked': False}, {'category': 'HARM_CATEGORY_DANGEROUS_CONTENT', 'probability': 'NEGLIGIBLE', 'blocked': False}]}, id='run-aad589bc-2352-4b1c-8f19-a54a4dd5e0e4-0', usage_metadata={'input_tokens': 165, 'output_tokens': 19, 'total_tokens': 184, 'input_token_details': {'cache_read': 0}}), HumanMessage(content='Remember my name?', additional_kwargs={}, response_metadata={}, id='f5993087-dda0-48d2-8645-29cd9ca5784f'), AIMessage(content='I will try my best to remember your name, Raheela! 😊  Is there anything else I can help you with? \\n', additional_kwargs={}, response_metadata={'prompt_feedback': {'block_reason': 0, 'safety_ratings': []}, 'finish_reason': 'STOP', 'safety_ratings': [{'category': 'HARM_CATEGORY_SEXUALLY_EXPLICIT', 'probability': 'NEGLIGIBLE', 'blocked': False}, {'category': 'HARM_CATEGORY_HATE_SPEECH', 'probability': 'NEGLIGIBLE', 'blocked': False}, {'category': 'HARM_CATEGORY_HARASSMENT', 'probability': 'NEGLIGIBLE', 'blocked': False}, {'category': 'HARM_CATEGORY_DANGEROUS_CONTENT', 'probability': 'NEGLIGIBLE', 'blocked': False}]}, id='run-31700251-3a3f-4ce3-97fc-f1f5f80bb34d-0', usage_metadata={'input_tokens': 192, 'output_tokens': 26, 'total_tokens': 218, 'input_token_details': {'cache_read': 0}})], 'ask_human': False}, next=(), config={'configurable': {'thread_id': '1', 'checkpoint_ns': '', 'checkpoint_id': '1efa1ef7-3aa7-6eea-8004-ee0b59cdea76'}}, metadata={'source': 'loop', 'writes': {'chatbot': {'messages': [AIMessage(content='I will try my best to remember your name, Raheela! 😊  Is there anything else I can help you with? \\n', additional_kwargs={}, response_metadata={'prompt_feedback': {'block_reason': 0, 'safety_ratings': []}, 'finish_reason': 'STOP', 'safety_ratings': [{'category': 'HARM_CATEGORY_SEXUALLY_EXPLICIT', 'probability': 'NEGLIGIBLE', 'blocked': False}, {'category': 'HARM_CATEGORY_HATE_SPEECH', 'probability': 'NEGLIGIBLE', 'blocked': False}, {'category': 'HARM_CATEGORY_HARASSMENT', 'probability': 'NEGLIGIBLE', 'blocked': False}, {'category': 'HARM_CATEGORY_DANGEROUS_CONTENT', 'probability': 'NEGLIGIBLE', 'blocked': False}]}, id='run-31700251-3a3f-4ce3-97fc-f1f5f80bb34d-0', usage_metadata={'input_tokens': 192, 'output_tokens': 26, 'total_tokens': 218, 'input_token_details': {'cache_read': 0}})], 'ask_human': False}}, 'thread_id': '1', 'step': 4, 'parents': {}}, created_at='2024-11-13T18:45:28.158343+00:00', parent_config={'configurable': {'thread_id': '1', 'checkpoint_ns': '', 'checkpoint_id': '1efa1ef7-36e1-6c98-8003-2ec62ed6ed75'}}, tasks=())\n"
          ]
        }
      ]
    },
    {
      "cell_type": "code",
      "source": [
        "snapshot.next   # Retrieve the next node that will execute in the graph"
      ],
      "metadata": {
        "colab": {
          "base_uri": "https://localhost:8080/"
        },
        "id": "feJwMog22skv",
        "outputId": "b5e4c3cf-e4a3-4c72-dd06-5f95c039bea7"
      },
      "execution_count": 62,
      "outputs": [
        {
          "output_type": "execute_result",
          "data": {
            "text/plain": [
              "()"
            ]
          },
          "metadata": {},
          "execution_count": 62
        }
      ]
    },
    {
      "cell_type": "code",
      "source": [
        "\n",
        "existing_message = snapshot.values[\"messages\"][-1]  # Retrieve the most recent message from the snapshot's values\n",
        "existing_message.pretty_print()   # Print the content of the most recent message"
      ],
      "metadata": {
        "colab": {
          "base_uri": "https://localhost:8080/"
        },
        "id": "iOmBA4r42Mt-",
        "outputId": "058acf69-6435-4e45-e022-4e90b1bbfba9"
      },
      "execution_count": 63,
      "outputs": [
        {
          "output_type": "stream",
          "name": "stdout",
          "text": [
            "==================================\u001b[1m Ai Message \u001b[0m==================================\n",
            "\n",
            "I will try my best to remember your name, Raheela! 😊  Is there anything else I can help you with?\n"
          ]
        }
      ]
    },
    {
      "cell_type": "markdown",
      "source": [
        "Notice that unlike last time, the \"next\" node is set to 'tools'. We've interrupted here! Let's check the tool invocation."
      ],
      "metadata": {
        "id": "BCz7yhfZ4UNB"
      }
    },
    {
      "cell_type": "code",
      "source": [
        "# # `None` will append nothing new to the current state, letting it resume as if it had never been interrupted\n",
        "events = graph.stream(None, config, stream_mode=\"values\")\n",
        "for event in events:\n",
        "    if \"messages\" in event:\n",
        "        event[\"messages\"][-1].pretty_print()"
      ],
      "metadata": {
        "colab": {
          "base_uri": "https://localhost:8080/"
        },
        "id": "bcCwhWSH3vCm",
        "outputId": "bf39657f-ba3a-46e6-889b-db788ca645dd"
      },
      "execution_count": 64,
      "outputs": [
        {
          "output_type": "stream",
          "name": "stdout",
          "text": [
            "==================================\u001b[1m Ai Message \u001b[0m==================================\n",
            "\n",
            "I will try my best to remember your name, Raheela! 😊  Is there anything else I can help you with?\n"
          ]
        }
      ]
    },
    {
      "cell_type": "markdown",
      "source": [
        "The **chatbot can remember the state of the conversation within a given thread** but won't retain context if the thread ID is changed."
      ],
      "metadata": {
        "id": "y84rE8WEj8r9"
      }
    },
    {
      "cell_type": "code",
      "source": [
        "# The only difference is we change the `thread_id` here to \"2\" instead of \"1\"\n",
        "events = graph.stream(\n",
        "    {\"messages\": [(\"user\", user_input)]},\n",
        "    {\"configurable\": {\"thread_id\": \"2\"}},\n",
        "    stream_mode=\"values\",\n",
        ")\n",
        "for event in events:\n",
        "    event[\"messages\"][-1].pretty_print()"
      ],
      "metadata": {
        "colab": {
          "base_uri": "https://localhost:8080/"
        },
        "id": "BaomjHl6kFHB",
        "outputId": "21ab3c34-6f17-4810-af84-9ee329bca7a2"
      },
      "execution_count": 12,
      "outputs": [
        {
          "output_type": "stream",
          "name": "stdout",
          "text": [
            "================================\u001b[1m Human Message \u001b[0m=================================\n",
            "\n",
            "Remember my name?\n",
            "==================================\u001b[1m Ai Message \u001b[0m==================================\n",
            "\n",
            "I am sorry, I do not have memory of past conversations. Is there anything else I can help you with?\n"
          ]
        }
      ]
    },
    {
      "cell_type": "markdown",
      "source": [
        "#### Human-in-the-loop\n",
        "\n",
        "**Freezer and un unfreez node**"
      ],
      "metadata": {
        "id": "ErPJOD-Rv6c5"
      }
    },
    {
      "cell_type": "code",
      "source": [
        "# User input example\n",
        "user_input = \"I'm learning LangGraph. Could you do some research on it for me?\"\n",
        "\n",
        "# Configuration for the thread ID\n",
        "config = {\"configurable\": {\"thread_id\": \"1\"}}\n",
        "\n",
        "# The config is the **second positional argument** to stream() or invoke()!\n",
        "events = graph.stream(\n",
        "    {\"messages\": [(\"user\", user_input)]}, config, stream_mode=\"values\"\n",
        ")\n",
        "\n",
        "# Loop through each event in the stream\n",
        "for event in events:\n",
        "    if \"messages\" in event:\n",
        "        # Print the latest message content from the event\n",
        "        event[\"messages\"][-1].pretty_print()"
      ],
      "metadata": {
        "colab": {
          "base_uri": "https://localhost:8080/"
        },
        "id": "QTVQnGt2ywA6",
        "outputId": "c875dfe7-cf97-4149-e228-60b592c447dd"
      },
      "execution_count": 37,
      "outputs": [
        {
          "output_type": "stream",
          "name": "stdout",
          "text": [
            "================================\u001b[1m Human Message \u001b[0m=================================\n",
            "\n",
            "I'm learning LangGraph. Could you do some research on it for me?\n",
            "==================================\u001b[1m Ai Message \u001b[0m==================================\n",
            "Tool Calls:\n",
            "  tavily_search_results_json (afa517f4-3a51-4d20-b6f4-998a3caaca24)\n",
            " Call ID: afa517f4-3a51-4d20-b6f4-998a3caaca24\n",
            "  Args:\n",
            "    query: LangGraph\n",
            "=================================\u001b[1m Tool Message \u001b[0m=================================\n",
            "Name: tavily_search_results_json\n",
            "\n",
            "[{\"url\": \"https://www.datacamp.com/tutorial/langgraph-tutorial\", \"content\": \"LangGraph is a library within the LangChain ecosystem that simplifies the development of complex, multi-agent large language model (LLM) applications. Learn how to use LangGraph to create stateful, flexible, and scalable systems with nodes, edges, and state management.\"}, {\"url\": \"https://langchain-ai.github.io/langgraph/\", \"content\": \"LangGraph is a low-level framework that allows you to create stateful, multi-actor applications with LLMs, using cycles, controllability, and persistence. Learn how to use LangGraph with LangChain, LangSmith, and Anthropic tools to build agent and multi-agent workflows.\"}]\n",
            "==================================\u001b[1m Ai Message \u001b[0m==================================\n",
            "\n",
            "LangGraph is a library within the LangChain ecosystem that simplifies the development of complex, multi-agent large language model (LLM) applications. It allows you to create stateful, flexible, and scalable systems with nodes, edges, and state management. You can learn more about LangGraph at [https://www.datacamp.com/tutorial/langgraph-tutorial](https://www.datacamp.com/tutorial/langgraph-tutorial) and [https://langchain-ai.github.io/langgraph/](https://langchain-ai.github.io/langgraph/).\n"
          ]
        }
      ]
    },
    {
      "cell_type": "code",
      "source": [
        "#inspect the graph state to confirm it worked.\n",
        "snapshot = graph.get_state(config)  # Retrieve the current state or status of the graph\n",
        "snapshot"
      ],
      "metadata": {
        "colab": {
          "base_uri": "https://localhost:8080/"
        },
        "id": "LsrLI2WBy_cY",
        "outputId": "1b1ea7e1-c9b4-4a19-d85d-2e12097ac551"
      },
      "execution_count": 47,
      "outputs": [
        {
          "output_type": "execute_result",
          "data": {
            "text/plain": [
              "StateSnapshot(values={}, next=(), config={'configurable': {'thread_id': '1'}}, metadata=None, created_at=None, parent_config=None, tasks=())"
            ]
          },
          "metadata": {},
          "execution_count": 47
        }
      ]
    },
    {
      "cell_type": "code",
      "source": [
        "snapshot.next   # Retrieve the next node that will execute in the graph"
      ],
      "metadata": {
        "colab": {
          "base_uri": "https://localhost:8080/"
        },
        "id": "ZIqAp0rTzD_3",
        "outputId": "e4babbf5-77d5-4f52-e3d8-37669c6dc9c8"
      },
      "execution_count": 48,
      "outputs": [
        {
          "output_type": "execute_result",
          "data": {
            "text/plain": [
              "()"
            ]
          },
          "metadata": {},
          "execution_count": 48
        }
      ]
    },
    {
      "cell_type": "markdown",
      "source": [
        "Notice that unlike last time, the \"next\" node is set to 'tools'. We've interrupted here! Let's check the tool invocation."
      ],
      "metadata": {
        "id": "4fzdiEpY4mkp"
      }
    },
    {
      "cell_type": "code",
      "source": [
        "existing_message = snapshot.values[\"messages\"][-1]  # Find out the last message\n",
        "existing_message.pretty_print()  # Print message\n",
        "\n",
        "print(\"\\nexisting message - tool_call\")\n",
        "existing_message.tool_calls  # Get tool data"
      ],
      "metadata": {
        "colab": {
          "base_uri": "https://localhost:8080/"
        },
        "id": "WqMGfHxD4u4O",
        "outputId": "a256fd77-da40-4864-d349-50736d339e7b"
      },
      "execution_count": 66,
      "outputs": [
        {
          "output_type": "stream",
          "name": "stdout",
          "text": [
            "==================================\u001b[1m Ai Message \u001b[0m==================================\n",
            "\n",
            "I will try my best to remember your name, Raheela! 😊  Is there anything else I can help you with?\n",
            "\n",
            "existing message - tool_call\n"
          ]
        },
        {
          "output_type": "execute_result",
          "data": {
            "text/plain": [
              "[]"
            ]
          },
          "metadata": {},
          "execution_count": 66
        }
      ]
    },
    {
      "cell_type": "markdown",
      "source": [
        "resume, and check work flow"
      ],
      "metadata": {
        "id": "Bf3_wh8C46fR"
      }
    },
    {
      "cell_type": "code",
      "source": [
        "# `None` will append nothing new to the current state, letting it resume as if it had never been interrupted\n",
        "# `None` will append nothing new to the current state, letting it resume as if it had never been interrupted\n",
        "events = graph.stream(None, config, stream_mode=\"values\")\n",
        "for event in events:\n",
        "    if \"messages\" in event:\n",
        "        event[\"messages\"][-1].pretty_print()"
      ],
      "metadata": {
        "colab": {
          "base_uri": "https://localhost:8080/"
        },
        "id": "3SgTpscG48SD",
        "outputId": "f0f9497c-4a8e-484a-c703-e47e8b3f3e8d"
      },
      "execution_count": 68,
      "outputs": [
        {
          "output_type": "stream",
          "name": "stdout",
          "text": [
            "==================================\u001b[1m Ai Message \u001b[0m==================================\n",
            "\n",
            "I will try my best to remember your name, Raheela! 😊  Is there anything else I can help you with?\n"
          ]
        }
      ]
    },
    {
      "cell_type": "markdown",
      "source": [
        "#### CHECK\n",
        "\n",
        "Part 5: Manually Updating the State"
      ],
      "metadata": {
        "id": "tJ6thS811bXs"
      }
    },
    {
      "cell_type": "markdown",
      "source": [
        "now write the state"
      ],
      "metadata": {
        "id": "LNf7Me2j5Rqf"
      }
    },
    {
      "cell_type": "code",
      "source": [
        "# User input example\n",
        "user_input = \"I'm learning LangGraph. Could you do some research on it for me?\"\n",
        "config = {\"configurable\": {\"thread_id\": \"1\"}}\n",
        "# The config is the **second positional argument** to stream() or invoke()!\n",
        "events = graph.stream({\"messages\": [(\"user\", user_input)]}, config)\n",
        "\n",
        "# Loop through each event in the stream\n",
        "for event in events:\n",
        "    if \"messages\" in event:\n",
        "        # Print the latest message content from the event\n",
        "        event[\"messages\"][-1].pretty_print()"
      ],
      "metadata": {
        "id": "CzzwjtE01j33"
      },
      "execution_count": 74,
      "outputs": []
    },
    {
      "cell_type": "code",
      "source": [
        "# Fetch the current state of the graph for the given configuration\n",
        "\n",
        "snapshot = graph.get_state(config)  # Retrieve the current state or status of the graph\n",
        "print(\"snapshot \", snapshot)\n",
        "\n",
        "existing_message = snapshot.values[\"messages\"][-1]  # Retrieve the most recent message from the snapshot's values\n",
        "existing_message.pretty_print()   # Print the content of the most recent message"
      ],
      "metadata": {
        "colab": {
          "base_uri": "https://localhost:8080/"
        },
        "id": "o7gPHQJk52LI",
        "outputId": "07e6c87d-c6bd-4880-d655-d97936e6f6f7"
      },
      "execution_count": 75,
      "outputs": [
        {
          "output_type": "stream",
          "name": "stdout",
          "text": [
            "snapshot  StateSnapshot(values={'messages': [HumanMessage(content='Hi there! My name is Raheela.', additional_kwargs={}, response_metadata={}, id='b29e24a6-5ede-4cfd-975f-ea8c0a0f95c5'), AIMessage(content='Hi Raheela, nice to meet you! 👋 What can I do for you today? \\n', additional_kwargs={}, response_metadata={'prompt_feedback': {'block_reason': 0, 'safety_ratings': []}, 'finish_reason': 'STOP', 'safety_ratings': [{'category': 'HARM_CATEGORY_SEXUALLY_EXPLICIT', 'probability': 'NEGLIGIBLE', 'blocked': False}, {'category': 'HARM_CATEGORY_HATE_SPEECH', 'probability': 'NEGLIGIBLE', 'blocked': False}, {'category': 'HARM_CATEGORY_HARASSMENT', 'probability': 'NEGLIGIBLE', 'blocked': False}, {'category': 'HARM_CATEGORY_DANGEROUS_CONTENT', 'probability': 'NEGLIGIBLE', 'blocked': False}]}, id='run-aad589bc-2352-4b1c-8f19-a54a4dd5e0e4-0', usage_metadata={'input_tokens': 165, 'output_tokens': 19, 'total_tokens': 184, 'input_token_details': {'cache_read': 0}}), HumanMessage(content='Remember my name?', additional_kwargs={}, response_metadata={}, id='f5993087-dda0-48d2-8645-29cd9ca5784f'), AIMessage(content='I will try my best to remember your name, Raheela! 😊  Is there anything else I can help you with? \\n', additional_kwargs={}, response_metadata={'prompt_feedback': {'block_reason': 0, 'safety_ratings': []}, 'finish_reason': 'STOP', 'safety_ratings': [{'category': 'HARM_CATEGORY_SEXUALLY_EXPLICIT', 'probability': 'NEGLIGIBLE', 'blocked': False}, {'category': 'HARM_CATEGORY_HATE_SPEECH', 'probability': 'NEGLIGIBLE', 'blocked': False}, {'category': 'HARM_CATEGORY_HARASSMENT', 'probability': 'NEGLIGIBLE', 'blocked': False}, {'category': 'HARM_CATEGORY_DANGEROUS_CONTENT', 'probability': 'NEGLIGIBLE', 'blocked': False}]}, id='run-31700251-3a3f-4ce3-97fc-f1f5f80bb34d-0', usage_metadata={'input_tokens': 192, 'output_tokens': 26, 'total_tokens': 218, 'input_token_details': {'cache_read': 0}}), HumanMessage(content=\"I'm learning LangGraph. Could you do some research on it for me?\", additional_kwargs={}, response_metadata={}, id='5905d9ed-5397-443c-9df2-4215d7d890e5'), AIMessage(content=\"I can certainly help you with that!  I can research LangGraph, but I need a little more information to get started. Could you tell me what specifically you'd like to know about LangGraph? For example:\\n\\n* **What are you hoping to learn about LangGraph?**  (e.g., its features, how it works, its applications, etc.)\\n* **Are you looking for specific resources like tutorials, documentation, or research papers?** \\n* **Do you have any particular questions about LangGraph?**\\n\\nThe more details you can provide, the better I can tailor my research to your needs. 😊 \\n\", additional_kwargs={}, response_metadata={'prompt_feedback': {'block_reason': 0, 'safety_ratings': []}, 'finish_reason': 'STOP', 'safety_ratings': [{'category': 'HARM_CATEGORY_SEXUALLY_EXPLICIT', 'probability': 'NEGLIGIBLE', 'blocked': False}, {'category': 'HARM_CATEGORY_HATE_SPEECH', 'probability': 'NEGLIGIBLE', 'blocked': False}, {'category': 'HARM_CATEGORY_HARASSMENT', 'probability': 'NEGLIGIBLE', 'blocked': False}, {'category': 'HARM_CATEGORY_DANGEROUS_CONTENT', 'probability': 'NEGLIGIBLE', 'blocked': False}]}, id='run-a11b766a-0079-48dd-9405-3d41fd5c8de6-0', usage_metadata={'input_tokens': 239, 'output_tokens': 131, 'total_tokens': 370, 'input_token_details': {'cache_read': 0}}), HumanMessage(content=\"I'm learning LangGraph. Could you do some research on it for me?\", additional_kwargs={}, response_metadata={}, id='66218eee-630f-465a-8efd-d88e17018a15'), AIMessage(content='I understand! I can help you research LangGraph.  To give you the most useful information, I need a bit more context.  Could you tell me:\\n\\n* **What specifically are you interested in learning about LangGraph?**  For example, are you curious about its features, how it works, its applications, or something else entirely? \\n* **Are you looking for specific resources like tutorials, documentation, or research papers?** \\n* **Do you have any particular questions about LangGraph?**\\n\\nThe more details you provide, the better I can tailor my research to your needs. 😊 \\n', additional_kwargs={}, response_metadata={'prompt_feedback': {'block_reason': 0, 'safety_ratings': []}, 'finish_reason': 'STOP', 'safety_ratings': [{'category': 'HARM_CATEGORY_SEXUALLY_EXPLICIT', 'probability': 'NEGLIGIBLE', 'blocked': False}, {'category': 'HARM_CATEGORY_HATE_SPEECH', 'probability': 'NEGLIGIBLE', 'blocked': False}, {'category': 'HARM_CATEGORY_HARASSMENT', 'probability': 'NEGLIGIBLE', 'blocked': False}, {'category': 'HARM_CATEGORY_DANGEROUS_CONTENT', 'probability': 'NEGLIGIBLE', 'blocked': False}]}, id='run-4bf32260-d5bf-485d-a2fc-e0f99d43a45a-0', usage_metadata={'input_tokens': 391, 'output_tokens': 125, 'total_tokens': 516, 'input_token_details': {'cache_read': 0}}), HumanMessage(content=\"I'm learning LangGraph. Could you do some research on it for me?\", additional_kwargs={}, response_metadata={}, id='a3a262b4-0b88-4ccf-b0bd-6eae0d09d2d7'), AIMessage(content='I understand! I can help you research LangGraph.  To give you the most useful information, I need a bit more context.  Could you tell me:\\n\\n* **What specifically are you interested in learning about LangGraph?**  For example, are you curious about its features, how it works, its applications, or something else entirely? \\n* **Are you looking for specific resources like tutorials, documentation, or research papers?** \\n* **Do you have any particular questions about LangGraph?**\\n\\nThe more details you provide, the better I can tailor my research to your needs. 😊 \\n', additional_kwargs={}, response_metadata={'prompt_feedback': {'block_reason': 0, 'safety_ratings': []}, 'finish_reason': 'STOP', 'safety_ratings': [{'category': 'HARM_CATEGORY_SEXUALLY_EXPLICIT', 'probability': 'NEGLIGIBLE', 'blocked': False}, {'category': 'HARM_CATEGORY_HATE_SPEECH', 'probability': 'NEGLIGIBLE', 'blocked': False}, {'category': 'HARM_CATEGORY_HARASSMENT', 'probability': 'NEGLIGIBLE', 'blocked': False}, {'category': 'HARM_CATEGORY_DANGEROUS_CONTENT', 'probability': 'NEGLIGIBLE', 'blocked': False}]}, id='run-e8c745fa-e024-4e5c-a204-1387e505e4b9-0', usage_metadata={'input_tokens': 537, 'output_tokens': 125, 'total_tokens': 662, 'input_token_details': {'cache_read': 0}})], 'ask_human': False}, next=(), config={'configurable': {'thread_id': '1', 'checkpoint_ns': '', 'checkpoint_id': '1efa1f25-e467-6db0-800d-00c8f31f00af'}}, metadata={'source': 'loop', 'writes': {'chatbot': {'messages': [AIMessage(content='I understand! I can help you research LangGraph.  To give you the most useful information, I need a bit more context.  Could you tell me:\\n\\n* **What specifically are you interested in learning about LangGraph?**  For example, are you curious about its features, how it works, its applications, or something else entirely? \\n* **Are you looking for specific resources like tutorials, documentation, or research papers?** \\n* **Do you have any particular questions about LangGraph?**\\n\\nThe more details you provide, the better I can tailor my research to your needs. 😊 \\n', additional_kwargs={}, response_metadata={'prompt_feedback': {'block_reason': 0, 'safety_ratings': []}, 'finish_reason': 'STOP', 'safety_ratings': [{'category': 'HARM_CATEGORY_SEXUALLY_EXPLICIT', 'probability': 'NEGLIGIBLE', 'blocked': False}, {'category': 'HARM_CATEGORY_HATE_SPEECH', 'probability': 'NEGLIGIBLE', 'blocked': False}, {'category': 'HARM_CATEGORY_HARASSMENT', 'probability': 'NEGLIGIBLE', 'blocked': False}, {'category': 'HARM_CATEGORY_DANGEROUS_CONTENT', 'probability': 'NEGLIGIBLE', 'blocked': False}]}, id='run-e8c745fa-e024-4e5c-a204-1387e505e4b9-0', usage_metadata={'input_tokens': 537, 'output_tokens': 125, 'total_tokens': 662, 'input_token_details': {'cache_read': 0}})], 'ask_human': False}}, 'thread_id': '1', 'step': 13, 'parents': {}}, created_at='2024-11-13T19:06:20.761000+00:00', parent_config={'configurable': {'thread_id': '1', 'checkpoint_ns': '', 'checkpoint_id': '1efa1f25-dde7-654c-800c-66ce6cdd8dc1'}}, tasks=())\n",
            "==================================\u001b[1m Ai Message \u001b[0m==================================\n",
            "\n",
            "I understand! I can help you research LangGraph.  To give you the most useful information, I need a bit more context.  Could you tell me:\n",
            "\n",
            "* **What specifically are you interested in learning about LangGraph?**  For example, are you curious about its features, how it works, its applications, or something else entirely? \n",
            "* **Are you looking for specific resources like tutorials, documentation, or research papers?** \n",
            "* **Do you have any particular questions about LangGraph?**\n",
            "\n",
            "The more details you provide, the better I can tailor my research to your needs. 😊\n"
          ]
        }
      ]
    },
    {
      "cell_type": "code",
      "source": [
        "user_input = \"I'm learning LangGraph. Could you do some research on it for me?\"\n",
        "config = {\"configurable\": {\"thread_id\": \"2\"}}  # we'll use thread_id = 2 here\n",
        "events = graph.stream(\n",
        "    {\"messages\": [(\"user\", user_input)]}, config, stream_mode=\"values\"\n",
        ")\n",
        "for event in events:\n",
        "    if \"messages\" in event:\n",
        "        event[\"messages\"][-1].pretty_print()"
      ],
      "metadata": {
        "colab": {
          "base_uri": "https://localhost:8080/"
        },
        "id": "rGQ6oNZc6QiP",
        "outputId": "802ede72-e618-4378-8b9d-487ea8bfd26c"
      },
      "execution_count": 76,
      "outputs": [
        {
          "output_type": "stream",
          "name": "stdout",
          "text": [
            "================================\u001b[1m Human Message \u001b[0m=================================\n",
            "\n",
            "I'm learning LangGraph. Could you do some research on it for me?\n",
            "==================================\u001b[1m Ai Message \u001b[0m==================================\n",
            "Tool Calls:\n",
            "  tavily_search_results_json (9f570327-b151-477c-bd50-527b5523e2fb)\n",
            " Call ID: 9f570327-b151-477c-bd50-527b5523e2fb\n",
            "  Args:\n",
            "    query: LangGraph\n",
            "=================================\u001b[1m Tool Message \u001b[0m=================================\n",
            "Name: tavily_search_results_json\n",
            "\n",
            "[{\"url\": \"https://www.datacamp.com/tutorial/langgraph-tutorial\", \"content\": \"LangGraph is a library within the LangChain ecosystem that simplifies the development of complex, multi-agent large language model (LLM) applications. Learn how to use LangGraph to create stateful, flexible, and scalable systems with nodes, edges, and state management.\"}, {\"url\": \"https://langchain-ai.github.io/langgraph/\", \"content\": \"LangGraph is a low-level framework that allows you to create stateful, multi-actor applications with LLMs, using cycles, controllability, and persistence. Learn how to use LangGraph with LangChain, LangSmith, and Anthropic tools to build agent and multi-agent workflows.\"}]\n",
            "==================================\u001b[1m Ai Message \u001b[0m==================================\n",
            "\n",
            "LangGraph is a library within the LangChain ecosystem that simplifies the development of complex, multi-agent large language model (LLM) applications. It allows you to create stateful, flexible, and scalable systems with nodes, edges, and state management. You can use LangGraph with LangChain, LangSmith, and Anthropic tools to build agent and multi-agent workflows. \n",
            "\n",
            "You can learn more about LangGraph at the following resources:\n",
            "\n",
            "* **Datacamp Tutorial:** https://www.datacamp.com/tutorial/langgraph-tutorial\n",
            "* **LangChain Documentation:** https://langchain-ai.github.io/langgraph/\n"
          ]
        }
      ]
    },
    {
      "cell_type": "markdown",
      "source": [
        "#### Part 5: Manually Updating the State"
      ],
      "metadata": {
        "id": "i0YSMPbn8Rxl"
      }
    }
  ]
}